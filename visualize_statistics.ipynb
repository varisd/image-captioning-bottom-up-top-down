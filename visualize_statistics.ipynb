{
 "cells": [
  {
   "cell_type": "code",
   "execution_count": 1,
   "metadata": {},
   "outputs": [],
   "source": [
    "%load_ext autoreload\n",
    "%autoreload 2\n",
    "import json\n",
    "import sys"
   ]
  },
  {
   "cell_type": "code",
   "execution_count": 2,
   "metadata": {},
   "outputs": [],
   "source": [
    "WD=\"/home/varis/tspec-workdir/top-down-captioner-torch\"\n",
    "\n",
    "results = {\n",
    "    \"baseline\": {},\n",
    "    \"baseline.linear\": {},\n",
    "    \"baseline.linear-id\": {},\n",
    "    \"baseline.linear-res\": {},\n",
    "    \"baseline.constant\": {}\n",
    "}\n",
    "\n",
    "sys.path.insert(0, WD)\n",
    "from plot import plot_series"
   ]
  },
  {
   "cell_type": "code",
   "execution_count": 6,
   "metadata": {},
   "outputs": [
    {
     "name": "stdout",
     "output_type": "stream",
     "text": [
      "/home/varis/tspec-workdir/top-down-captioner-torch/experiments.intersection/baseline.linear/eval/BEST_1checkpoint_coco_5_cap_per_img_5_min_word_freq.pth.tar.out\n",
      "/home/varis/tspec-workdir/top-down-captioner-torch/experiments.intersection/baseline.linear-id/eval/BEST_0checkpoint_coco_5_cap_per_img_5_min_word_freq.pth.tar.out\n",
      "/home/varis/tspec-workdir/top-down-captioner-torch/experiments.intersection/baseline.linear-id/eval/BEST_1checkpoint_coco_5_cap_per_img_5_min_word_freq.pth.tar.out\n",
      "/home/varis/tspec-workdir/top-down-captioner-torch/experiments.intersection/baseline.linear-id/eval/BEST_36checkpoint_coco_5_cap_per_img_5_min_word_freq.pth.tar.out\n",
      "/home/varis/tspec-workdir/top-down-captioner-torch/experiments.intersection/baseline.linear-res/eval/BEST_0checkpoint_coco_5_cap_per_img_5_min_word_freq.pth.tar.emb.txt\n",
      "/home/varis/tspec-workdir/top-down-captioner-torch/experiments.intersection/baseline.linear-res/eval/BEST_0checkpoint_coco_5_cap_per_img_5_min_word_freq.pth.tar.out\n",
      "/home/varis/tspec-workdir/top-down-captioner-torch/experiments.intersection/baseline.linear-res/eval/BEST_1checkpoint_coco_5_cap_per_img_5_min_word_freq.pth.tar.emb.txt\n",
      "/home/varis/tspec-workdir/top-down-captioner-torch/experiments.intersection/baseline.linear-res/eval/BEST_1checkpoint_coco_5_cap_per_img_5_min_word_freq.pth.tar.out\n",
      "/home/varis/tspec-workdir/top-down-captioner-torch/experiments.intersection/baseline.linear-res/eval/BEST_2checkpoint_coco_5_cap_per_img_5_min_word_freq.pth.tar.emb.txt\n",
      "/home/varis/tspec-workdir/top-down-captioner-torch/experiments.intersection/baseline.linear-res/eval/BEST_2checkpoint_coco_5_cap_per_img_5_min_word_freq.pth.tar.out\n",
      "/home/varis/tspec-workdir/top-down-captioner-torch/experiments.intersection/baseline.linear-res/eval/BEST_3checkpoint_coco_5_cap_per_img_5_min_word_freq.pth.tar.emb.txt\n",
      "/home/varis/tspec-workdir/top-down-captioner-torch/experiments.intersection/baseline.linear-res/eval/BEST_3checkpoint_coco_5_cap_per_img_5_min_word_freq.pth.tar.out\n",
      "/home/varis/tspec-workdir/top-down-captioner-torch/experiments.intersection/baseline.linear-res/eval/BEST_4checkpoint_coco_5_cap_per_img_5_min_word_freq.pth.tar.emb.txt\n",
      "/home/varis/tspec-workdir/top-down-captioner-torch/experiments.intersection/baseline.linear-res/eval/BEST_4checkpoint_coco_5_cap_per_img_5_min_word_freq.pth.tar.out\n",
      "/home/varis/tspec-workdir/top-down-captioner-torch/experiments.intersection/baseline.linear-res/eval/BEST_5checkpoint_coco_5_cap_per_img_5_min_word_freq.pth.tar.emb.txt\n",
      "/home/varis/tspec-workdir/top-down-captioner-torch/experiments.intersection/baseline.linear-res/eval/BEST_5checkpoint_coco_5_cap_per_img_5_min_word_freq.pth.tar.out\n",
      "/home/varis/tspec-workdir/top-down-captioner-torch/experiments.intersection/baseline.linear-res/eval/BEST_6checkpoint_coco_5_cap_per_img_5_min_word_freq.pth.tar.emb.txt\n",
      "/home/varis/tspec-workdir/top-down-captioner-torch/experiments.intersection/baseline.linear-res/eval/BEST_6checkpoint_coco_5_cap_per_img_5_min_word_freq.pth.tar.out\n",
      "/home/varis/tspec-workdir/top-down-captioner-torch/experiments.intersection/baseline.linear-res/eval/BEST_7checkpoint_coco_5_cap_per_img_5_min_word_freq.pth.tar.emb.txt\n",
      "/home/varis/tspec-workdir/top-down-captioner-torch/experiments.intersection/baseline.linear-res/eval/BEST_7checkpoint_coco_5_cap_per_img_5_min_word_freq.pth.tar.out\n",
      "/home/varis/tspec-workdir/top-down-captioner-torch/experiments.intersection/baseline.linear-res/eval/BEST_8checkpoint_coco_5_cap_per_img_5_min_word_freq.pth.tar.emb.txt\n",
      "/home/varis/tspec-workdir/top-down-captioner-torch/experiments.intersection/baseline.linear-res/eval/BEST_8checkpoint_coco_5_cap_per_img_5_min_word_freq.pth.tar.out\n",
      "/home/varis/tspec-workdir/top-down-captioner-torch/experiments.intersection/baseline.linear-res/eval/BEST_9checkpoint_coco_5_cap_per_img_5_min_word_freq.pth.tar.emb.txt\n",
      "/home/varis/tspec-workdir/top-down-captioner-torch/experiments.intersection/baseline.linear-res/eval/BEST_9checkpoint_coco_5_cap_per_img_5_min_word_freq.pth.tar.out\n",
      "/home/varis/tspec-workdir/top-down-captioner-torch/experiments.intersection/baseline.linear-res/eval/BEST_10checkpoint_coco_5_cap_per_img_5_min_word_freq.pth.tar.emb.txt\n",
      "/home/varis/tspec-workdir/top-down-captioner-torch/experiments.intersection/baseline.linear-res/eval/BEST_10checkpoint_coco_5_cap_per_img_5_min_word_freq.pth.tar.out\n",
      "/home/varis/tspec-workdir/top-down-captioner-torch/experiments.intersection/baseline.linear-res/eval/BEST_11checkpoint_coco_5_cap_per_img_5_min_word_freq.pth.tar.emb.txt\n",
      "/home/varis/tspec-workdir/top-down-captioner-torch/experiments.intersection/baseline.linear-res/eval/BEST_11checkpoint_coco_5_cap_per_img_5_min_word_freq.pth.tar.out\n",
      "/home/varis/tspec-workdir/top-down-captioner-torch/experiments.intersection/baseline.linear-res/eval/BEST_12checkpoint_coco_5_cap_per_img_5_min_word_freq.pth.tar.emb.txt\n",
      "/home/varis/tspec-workdir/top-down-captioner-torch/experiments.intersection/baseline.linear-res/eval/BEST_12checkpoint_coco_5_cap_per_img_5_min_word_freq.pth.tar.out\n",
      "/home/varis/tspec-workdir/top-down-captioner-torch/experiments.intersection/baseline.linear-res/eval/BEST_13checkpoint_coco_5_cap_per_img_5_min_word_freq.pth.tar.emb.txt\n",
      "/home/varis/tspec-workdir/top-down-captioner-torch/experiments.intersection/baseline.linear-res/eval/BEST_13checkpoint_coco_5_cap_per_img_5_min_word_freq.pth.tar.out\n",
      "/home/varis/tspec-workdir/top-down-captioner-torch/experiments.intersection/baseline.linear-res/eval/BEST_14checkpoint_coco_5_cap_per_img_5_min_word_freq.pth.tar.emb.txt\n",
      "/home/varis/tspec-workdir/top-down-captioner-torch/experiments.intersection/baseline.linear-res/eval/BEST_14checkpoint_coco_5_cap_per_img_5_min_word_freq.pth.tar.out\n",
      "/home/varis/tspec-workdir/top-down-captioner-torch/experiments.intersection/baseline.linear-res/eval/BEST_15checkpoint_coco_5_cap_per_img_5_min_word_freq.pth.tar.emb.txt\n",
      "/home/varis/tspec-workdir/top-down-captioner-torch/experiments.intersection/baseline.linear-res/eval/BEST_15checkpoint_coco_5_cap_per_img_5_min_word_freq.pth.tar.out\n",
      "/home/varis/tspec-workdir/top-down-captioner-torch/experiments.intersection/baseline.linear-res/eval/BEST_16checkpoint_coco_5_cap_per_img_5_min_word_freq.pth.tar.emb.txt\n",
      "/home/varis/tspec-workdir/top-down-captioner-torch/experiments.intersection/baseline.linear-res/eval/BEST_16checkpoint_coco_5_cap_per_img_5_min_word_freq.pth.tar.out\n",
      "/home/varis/tspec-workdir/top-down-captioner-torch/experiments.intersection/baseline.linear-res/eval/BEST_17checkpoint_coco_5_cap_per_img_5_min_word_freq.pth.tar.emb.txt\n",
      "/home/varis/tspec-workdir/top-down-captioner-torch/experiments.intersection/baseline.linear-res/eval/BEST_17checkpoint_coco_5_cap_per_img_5_min_word_freq.pth.tar.out\n",
      "/home/varis/tspec-workdir/top-down-captioner-torch/experiments.intersection/baseline.linear-res/eval/BEST_18checkpoint_coco_5_cap_per_img_5_min_word_freq.pth.tar.emb.txt\n",
      "/home/varis/tspec-workdir/top-down-captioner-torch/experiments.intersection/baseline.linear-res/eval/BEST_18checkpoint_coco_5_cap_per_img_5_min_word_freq.pth.tar.out\n",
      "/home/varis/tspec-workdir/top-down-captioner-torch/experiments.intersection/baseline.linear-res/eval/BEST_19checkpoint_coco_5_cap_per_img_5_min_word_freq.pth.tar.emb.txt\n",
      "/home/varis/tspec-workdir/top-down-captioner-torch/experiments.intersection/baseline.linear-res/eval/BEST_19checkpoint_coco_5_cap_per_img_5_min_word_freq.pth.tar.out\n",
      "/home/varis/tspec-workdir/top-down-captioner-torch/experiments.intersection/baseline.linear-res/eval/BEST_20checkpoint_coco_5_cap_per_img_5_min_word_freq.pth.tar.emb.txt\n",
      "/home/varis/tspec-workdir/top-down-captioner-torch/experiments.intersection/baseline.linear-res/eval/BEST_20checkpoint_coco_5_cap_per_img_5_min_word_freq.pth.tar.out\n",
      "/home/varis/tspec-workdir/top-down-captioner-torch/experiments.intersection/baseline.linear-res/eval/BEST_21checkpoint_coco_5_cap_per_img_5_min_word_freq.pth.tar.emb.txt\n",
      "/home/varis/tspec-workdir/top-down-captioner-torch/experiments.intersection/baseline.linear-res/eval/BEST_21checkpoint_coco_5_cap_per_img_5_min_word_freq.pth.tar.out\n",
      "/home/varis/tspec-workdir/top-down-captioner-torch/experiments.intersection/baseline.linear-res/eval/BEST_22checkpoint_coco_5_cap_per_img_5_min_word_freq.pth.tar.emb.txt\n",
      "/home/varis/tspec-workdir/top-down-captioner-torch/experiments.intersection/baseline.linear-res/eval/BEST_22checkpoint_coco_5_cap_per_img_5_min_word_freq.pth.tar.out\n",
      "/home/varis/tspec-workdir/top-down-captioner-torch/experiments.intersection/baseline.linear-res/eval/BEST_23checkpoint_coco_5_cap_per_img_5_min_word_freq.pth.tar.emb.txt\n",
      "/home/varis/tspec-workdir/top-down-captioner-torch/experiments.intersection/baseline.linear-res/eval/BEST_23checkpoint_coco_5_cap_per_img_5_min_word_freq.pth.tar.out\n",
      "/home/varis/tspec-workdir/top-down-captioner-torch/experiments.intersection/baseline.linear-res/eval/BEST_24checkpoint_coco_5_cap_per_img_5_min_word_freq.pth.tar.emb.txt\n",
      "/home/varis/tspec-workdir/top-down-captioner-torch/experiments.intersection/baseline.linear-res/eval/BEST_24checkpoint_coco_5_cap_per_img_5_min_word_freq.pth.tar.out\n",
      "/home/varis/tspec-workdir/top-down-captioner-torch/experiments.intersection/baseline.linear-res/eval/BEST_25checkpoint_coco_5_cap_per_img_5_min_word_freq.pth.tar.emb.txt\n",
      "/home/varis/tspec-workdir/top-down-captioner-torch/experiments.intersection/baseline.linear-res/eval/BEST_25checkpoint_coco_5_cap_per_img_5_min_word_freq.pth.tar.out\n",
      "/home/varis/tspec-workdir/top-down-captioner-torch/experiments.intersection/baseline.linear-res/eval/BEST_26checkpoint_coco_5_cap_per_img_5_min_word_freq.pth.tar.emb.txt\n",
      "/home/varis/tspec-workdir/top-down-captioner-torch/experiments.intersection/baseline.linear-res/eval/BEST_26checkpoint_coco_5_cap_per_img_5_min_word_freq.pth.tar.out\n",
      "/home/varis/tspec-workdir/top-down-captioner-torch/experiments.intersection/baseline.linear-res/eval/BEST_27checkpoint_coco_5_cap_per_img_5_min_word_freq.pth.tar.emb.txt\n",
      "/home/varis/tspec-workdir/top-down-captioner-torch/experiments.intersection/baseline.linear-res/eval/BEST_27checkpoint_coco_5_cap_per_img_5_min_word_freq.pth.tar.out\n",
      "/home/varis/tspec-workdir/top-down-captioner-torch/experiments.intersection/baseline.linear-res/eval/BEST_28checkpoint_coco_5_cap_per_img_5_min_word_freq.pth.tar.emb.txt\n",
      "/home/varis/tspec-workdir/top-down-captioner-torch/experiments.intersection/baseline.linear-res/eval/BEST_28checkpoint_coco_5_cap_per_img_5_min_word_freq.pth.tar.out\n",
      "/home/varis/tspec-workdir/top-down-captioner-torch/experiments.intersection/baseline.linear-res/eval/BEST_29checkpoint_coco_5_cap_per_img_5_min_word_freq.pth.tar.emb.txt\n",
      "/home/varis/tspec-workdir/top-down-captioner-torch/experiments.intersection/baseline.linear-res/eval/BEST_29checkpoint_coco_5_cap_per_img_5_min_word_freq.pth.tar.out\n",
      "/home/varis/tspec-workdir/top-down-captioner-torch/experiments.intersection/baseline.linear-res/eval/BEST_30checkpoint_coco_5_cap_per_img_5_min_word_freq.pth.tar.emb.txt\n",
      "/home/varis/tspec-workdir/top-down-captioner-torch/experiments.intersection/baseline.linear-res/eval/BEST_30checkpoint_coco_5_cap_per_img_5_min_word_freq.pth.tar.out\n",
      "/home/varis/tspec-workdir/top-down-captioner-torch/experiments.intersection/baseline.linear-res/eval/BEST_31checkpoint_coco_5_cap_per_img_5_min_word_freq.pth.tar.emb.txt\n",
      "/home/varis/tspec-workdir/top-down-captioner-torch/experiments.intersection/baseline.linear-res/eval/BEST_31checkpoint_coco_5_cap_per_img_5_min_word_freq.pth.tar.out\n",
      "/home/varis/tspec-workdir/top-down-captioner-torch/experiments.intersection/baseline.linear-res/eval/BEST_32checkpoint_coco_5_cap_per_img_5_min_word_freq.pth.tar.emb.txt\n",
      "/home/varis/tspec-workdir/top-down-captioner-torch/experiments.intersection/baseline.linear-res/eval/BEST_32checkpoint_coco_5_cap_per_img_5_min_word_freq.pth.tar.out\n",
      "/home/varis/tspec-workdir/top-down-captioner-torch/experiments.intersection/baseline.linear-res/eval/BEST_33checkpoint_coco_5_cap_per_img_5_min_word_freq.pth.tar.emb.txt\n",
      "/home/varis/tspec-workdir/top-down-captioner-torch/experiments.intersection/baseline.linear-res/eval/BEST_33checkpoint_coco_5_cap_per_img_5_min_word_freq.pth.tar.out\n",
      "/home/varis/tspec-workdir/top-down-captioner-torch/experiments.intersection/baseline.linear-res/eval/BEST_34checkpoint_coco_5_cap_per_img_5_min_word_freq.pth.tar.emb.txt\n",
      "/home/varis/tspec-workdir/top-down-captioner-torch/experiments.intersection/baseline.linear-res/eval/BEST_34checkpoint_coco_5_cap_per_img_5_min_word_freq.pth.tar.out\n",
      "/home/varis/tspec-workdir/top-down-captioner-torch/experiments.intersection/baseline.linear-res/eval/BEST_35checkpoint_coco_5_cap_per_img_5_min_word_freq.pth.tar.emb.txt\n",
      "/home/varis/tspec-workdir/top-down-captioner-torch/experiments.intersection/baseline.linear-res/eval/BEST_35checkpoint_coco_5_cap_per_img_5_min_word_freq.pth.tar.out\n",
      "/home/varis/tspec-workdir/top-down-captioner-torch/experiments.intersection/baseline.linear-res/eval/BEST_36checkpoint_coco_5_cap_per_img_5_min_word_freq.pth.tar.emb.txt\n",
      "/home/varis/tspec-workdir/top-down-captioner-torch/experiments.intersection/baseline.linear-res/eval/BEST_36checkpoint_coco_5_cap_per_img_5_min_word_freq.pth.tar.out\n",
      "/home/varis/tspec-workdir/top-down-captioner-torch/experiments.intersection/baseline.linear-res/eval/BEST_37checkpoint_coco_5_cap_per_img_5_min_word_freq.pth.tar.emb.txt\n",
      "/home/varis/tspec-workdir/top-down-captioner-torch/experiments.intersection/baseline.linear-res/eval/BEST_37checkpoint_coco_5_cap_per_img_5_min_word_freq.pth.tar.out\n",
      "/home/varis/tspec-workdir/top-down-captioner-torch/experiments.intersection/baseline.linear-res/eval/BEST_38checkpoint_coco_5_cap_per_img_5_min_word_freq.pth.tar.emb.txt\n",
      "/home/varis/tspec-workdir/top-down-captioner-torch/experiments.intersection/baseline.linear-res/eval/BEST_38checkpoint_coco_5_cap_per_img_5_min_word_freq.pth.tar.out\n",
      "/home/varis/tspec-workdir/top-down-captioner-torch/experiments.intersection/baseline.linear-res/eval/BEST_39checkpoint_coco_5_cap_per_img_5_min_word_freq.pth.tar.emb.txt\n",
      "/home/varis/tspec-workdir/top-down-captioner-torch/experiments.intersection/baseline.linear-res/eval/BEST_39checkpoint_coco_5_cap_per_img_5_min_word_freq.pth.tar.out\n",
      "/home/varis/tspec-workdir/top-down-captioner-torch/experiments.intersection/baseline.linear-res/eval/BEST_40checkpoint_coco_5_cap_per_img_5_min_word_freq.pth.tar.emb.txt\n",
      "/home/varis/tspec-workdir/top-down-captioner-torch/experiments.intersection/baseline.linear-res/eval/BEST_40checkpoint_coco_5_cap_per_img_5_min_word_freq.pth.tar.out\n",
      "/home/varis/tspec-workdir/top-down-captioner-torch/experiments.intersection/baseline.linear-res/eval/BEST_41checkpoint_coco_5_cap_per_img_5_min_word_freq.pth.tar.emb.txt\n",
      "/home/varis/tspec-workdir/top-down-captioner-torch/experiments.intersection/baseline.linear-res/eval/BEST_41checkpoint_coco_5_cap_per_img_5_min_word_freq.pth.tar.out\n",
      "/home/varis/tspec-workdir/top-down-captioner-torch/experiments.intersection/baseline.linear-res/eval/BEST_42checkpoint_coco_5_cap_per_img_5_min_word_freq.pth.tar.emb.txt\n",
      "/home/varis/tspec-workdir/top-down-captioner-torch/experiments.intersection/baseline.linear-res/eval/BEST_42checkpoint_coco_5_cap_per_img_5_min_word_freq.pth.tar.out\n",
      "/home/varis/tspec-workdir/top-down-captioner-torch/experiments.intersection/baseline.linear-res/eval/BEST_43checkpoint_coco_5_cap_per_img_5_min_word_freq.pth.tar.emb.txt\n",
      "/home/varis/tspec-workdir/top-down-captioner-torch/experiments.intersection/baseline.linear-res/eval/BEST_43checkpoint_coco_5_cap_per_img_5_min_word_freq.pth.tar.out\n",
      "/home/varis/tspec-workdir/top-down-captioner-torch/experiments.intersection/baseline.linear-res/eval/BEST_44checkpoint_coco_5_cap_per_img_5_min_word_freq.pth.tar.emb.txt\n",
      "/home/varis/tspec-workdir/top-down-captioner-torch/experiments.intersection/baseline.linear-res/eval/BEST_44checkpoint_coco_5_cap_per_img_5_min_word_freq.pth.tar.out\n",
      "/home/varis/tspec-workdir/top-down-captioner-torch/experiments.intersection/baseline.linear-res/eval/BEST_45checkpoint_coco_5_cap_per_img_5_min_word_freq.pth.tar.emb.txt\n",
      "/home/varis/tspec-workdir/top-down-captioner-torch/experiments.intersection/baseline.linear-res/eval/BEST_45checkpoint_coco_5_cap_per_img_5_min_word_freq.pth.tar.out\n",
      "/home/varis/tspec-workdir/top-down-captioner-torch/experiments.intersection/baseline.linear-res/eval/BEST_46checkpoint_coco_5_cap_per_img_5_min_word_freq.pth.tar.emb.txt\n",
      "/home/varis/tspec-workdir/top-down-captioner-torch/experiments.intersection/baseline.linear-res/eval/BEST_46checkpoint_coco_5_cap_per_img_5_min_word_freq.pth.tar.out\n",
      "/home/varis/tspec-workdir/top-down-captioner-torch/experiments.intersection/baseline.linear-res/eval/BEST_47checkpoint_coco_5_cap_per_img_5_min_word_freq.pth.tar.emb.txt\n",
      "/home/varis/tspec-workdir/top-down-captioner-torch/experiments.intersection/baseline.linear-res/eval/BEST_47checkpoint_coco_5_cap_per_img_5_min_word_freq.pth.tar.out\n",
      "/home/varis/tspec-workdir/top-down-captioner-torch/experiments.intersection/baseline.linear-res/eval/BEST_48checkpoint_coco_5_cap_per_img_5_min_word_freq.pth.tar.emb.txt\n",
      "/home/varis/tspec-workdir/top-down-captioner-torch/experiments.intersection/baseline.linear-res/eval/BEST_48checkpoint_coco_5_cap_per_img_5_min_word_freq.pth.tar.out\n",
      "/home/varis/tspec-workdir/top-down-captioner-torch/experiments.intersection/baseline.linear-res/eval/BEST_49checkpoint_coco_5_cap_per_img_5_min_word_freq.pth.tar.emb.txt\n",
      "/home/varis/tspec-workdir/top-down-captioner-torch/experiments.intersection/baseline.linear-res/eval/BEST_49checkpoint_coco_5_cap_per_img_5_min_word_freq.pth.tar.out\n",
      "/home/varis/tspec-workdir/top-down-captioner-torch/experiments.intersection/baseline.constant/eval/BEST_23checkpoint_coco_5_cap_per_img_5_min_word_freq.pth.tar.out\n",
      "/home/varis/tspec-workdir/top-down-captioner-torch/experiments.intersection/baseline.constant/eval/BEST_49checkpoint_coco_5_cap_per_img_5_min_word_freq.pth.tar.out\n"
     ]
    }
   ],
   "source": [
    "for exp in results.keys():\n",
    "    EXPDIR = \"{}/experiments.intersection/{}\".format(WD, exp)\n",
    "    for i in range(50):\n",
    "        try:\n",
    "            file = \"{}/eval/BEST_{}checkpoint_coco_5_cap_per_img_5_min_word_freq.pth.tar.emb.txt\".format(EXPDIR, i)\n",
    "            with open(file, \"r\") as fh:\n",
    "                for line in fh:\n",
    "                    line = line.strip().split()\n",
    "                    key = \"_\".join(line[:-1])\n",
    "                    val = line[-1].split(\"(\")[0]\n",
    "                    if key in results[exp]:\n",
    "                        results[exp][key].append(float(val))\n",
    "                    else:\n",
    "                        results[exp][key] = [float(val)]\n",
    "        except Exception as e:\n",
    "            print(file)\n",
    "        file = \"{}/eval/BEST_{}checkpoint_coco_5_cap_per_img_5_min_word_freq.pth.tar.out\".format(EXPDIR, i)\n",
    "        try:\n",
    "            with open(file, \"r\") as fh:\n",
    "                line = fh.readline().replace(\"\\'\", \"\\\"\")\n",
    "                f_json = json.loads(line)\n",
    "                for key in f_json:\n",
    "                    val = f_json[key]\n",
    "                    if key in results[exp]:\n",
    "                        results[exp][key].append(float(val))\n",
    "                    else:\n",
    "                        results[exp][key] = [float(val)]\n",
    "        except Exception as e:\n",
    "            print(file)\n",
    "            "
   ]
  },
  {
   "cell_type": "code",
   "execution_count": 9,
   "metadata": {},
   "outputs": [
    {
     "name": "stdout",
     "output_type": "stream",
     "text": [
      "dict_keys(['mNNO_(orig):', 'mNNO_(proj):', 'C_intra_(orig):', 'C_inter_(orig):', 'C_intra_(proj):', 'C_inter_(proj):', 'Pearson_(orig):', 'Pearson_(proj):', 'CIDEr', 'Bleu_4', 'Bleu_3', 'Bleu_2', 'Bleu_1', 'ROUGE_L', 'METEOR'])\n"
     ]
    }
   ],
   "source": [
    "print(results[\"baseline\"].keys())"
   ]
  },
  {
   "cell_type": "code",
   "execution_count": 10,
   "metadata": {},
   "outputs": [
    {
     "ename": "KeyError",
     "evalue": "'C_inter_(orig):'",
     "output_type": "error",
     "traceback": [
      "\u001b[0;31m---------------------------------------------------------------------------\u001b[0m",
      "\u001b[0;31mKeyError\u001b[0m                                  Traceback (most recent call last)",
      "\u001b[0;32m<ipython-input-10-0eb81a66f18f>\u001b[0m in \u001b[0;36m<module>\u001b[0;34m\u001b[0m\n\u001b[1;32m      6\u001b[0m \u001b[0;31m#ax1 = plot_series(results['C_intra_(orig):'], ax=ax1, color=\"bx\")\u001b[0m\u001b[0;34m\u001b[0m\u001b[0;34m\u001b[0m\u001b[0;34m\u001b[0m\u001b[0m\n\u001b[1;32m      7\u001b[0m \u001b[0;31m#ax1 = plot_series(results['C_intra_(proj):'], ax=ax1, color=\"bx\")\u001b[0m\u001b[0;34m\u001b[0m\u001b[0;34m\u001b[0m\u001b[0;34m\u001b[0m\u001b[0m\n\u001b[0;32m----> 8\u001b[0;31m \u001b[0max1\u001b[0m \u001b[0;34m=\u001b[0m \u001b[0mplot_series\u001b[0m\u001b[0;34m(\u001b[0m\u001b[0mresults\u001b[0m\u001b[0;34m[\u001b[0m\u001b[0;34m'C_inter_(orig):'\u001b[0m\u001b[0;34m]\u001b[0m\u001b[0;34m,\u001b[0m \u001b[0max\u001b[0m\u001b[0;34m=\u001b[0m\u001b[0max1\u001b[0m\u001b[0;34m,\u001b[0m \u001b[0mcolor\u001b[0m\u001b[0;34m=\u001b[0m\u001b[0;34m\"bx\"\u001b[0m\u001b[0;34m)\u001b[0m\u001b[0;34m\u001b[0m\u001b[0;34m\u001b[0m\u001b[0m\n\u001b[0m\u001b[1;32m      9\u001b[0m \u001b[0max1\u001b[0m \u001b[0;34m=\u001b[0m \u001b[0mplot_series\u001b[0m\u001b[0;34m(\u001b[0m\u001b[0mresults\u001b[0m\u001b[0;34m[\u001b[0m\u001b[0;34m'C_inter_(proj):'\u001b[0m\u001b[0;34m]\u001b[0m\u001b[0;34m,\u001b[0m \u001b[0max\u001b[0m\u001b[0;34m=\u001b[0m\u001b[0max1\u001b[0m\u001b[0;34m,\u001b[0m \u001b[0mcolor\u001b[0m\u001b[0;34m=\u001b[0m\u001b[0;34m\"bx\"\u001b[0m\u001b[0;34m)\u001b[0m\u001b[0;34m\u001b[0m\u001b[0;34m\u001b[0m\u001b[0m\n\u001b[1;32m     10\u001b[0m \u001b[0mplt\u001b[0m\u001b[0;34m.\u001b[0m\u001b[0mshow\u001b[0m\u001b[0;34m(\u001b[0m\u001b[0;34m)\u001b[0m\u001b[0;34m\u001b[0m\u001b[0;34m\u001b[0m\u001b[0m\n",
      "\u001b[0;31mKeyError\u001b[0m: 'C_inter_(orig):'"
     ]
    },
    {
     "data": {
      "image/png": "[encoded data removed]",
      "text/plain": [
       "<Figure size 432x288 with 1 Axes>"
      ]
     },
     "metadata": {
      "needs_background": "light"
     },
     "output_type": "display_data"
    }
   ],
   "source": [
    "import matplotlib.pyplot as plt\n",
    "\n",
    "exp1 = results[\"baseline\"]\n",
    "exp2 = results[\"baseline.linear\"]\n",
    "ax1 = plt.subplot(111)\n",
    "#ax1 = plot_series(results['mNNO_(orig):'], ax=ax1, color=\"rx\")\n",
    "#ax1 = plot_series(results['mNNO_(proj):'], ax=ax1, color=\"gx\")\n",
    "#ax1 = plot_series(results['C_intra_(orig):'], ax=ax1, color=\"bx\")\n",
    "#ax1 = plot_series(results['C_intra_(proj):'], ax=ax1, color=\"bx\")\n",
    "ax1 = plot_series(results['C_inter_(orig):'], ax=ax1, color=\"bx\")\n",
    "ax1 = plot_series(results['C_inter_(proj):'], ax=ax1, color=\"bx\")\n",
    "plt.show()"
   ]
  },
  {
   "cell_type": "code",
   "execution_count": null,
   "metadata": {},
   "outputs": [],
   "source": []
  }
 ],
 "metadata": {
  "kernelspec": {
   "display_name": "Python 3",
   "language": "python",
   "name": "python3"
  },
  "language_info": {
   "codemirror_mode": {
    "name": "ipython",
    "version": 3
   },
   "file_extension": ".py",
   "mimetype": "text/x-python",
   "name": "python",
   "nbconvert_exporter": "python",
   "pygments_lexer": "ipython3",
   "version": "3.6.9"
  }
 },
 "nbformat": 4,
 "nbformat_minor": 4
}
